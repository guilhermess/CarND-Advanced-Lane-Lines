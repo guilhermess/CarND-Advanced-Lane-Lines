{
 "cells": [
  {
   "cell_type": "code",
   "execution_count": 6,
   "metadata": {
    "collapsed": false
   },
   "outputs": [],
   "source": [
    "import glob\n",
    "import numpy as np\n",
    "import matplotlib.pyplot as plt\n",
    "import cv2\n",
    "images = glob.glob(\"./log/undistorted*.png\")\n",
    "\n",
    "def absolute_sobel_threshold(image, orient='x', sobel_kernel=3, threshold=(0, 255)):\n",
    "  gray = cv2.cvtColor(image, cv2.COLOR_RGB2GRAY)\n",
    "  binary_orient = (1, 0)\n",
    "  if (orient == 'y'):\n",
    "    binary_orient = (0, 1)\n",
    "  sobel = cv2.Sobel(gray, cv2.CV_64F, *binary_orient, ksize=sobel_kernel)\n",
    "  abs_sobel = np.absolute(sobel)\n",
    "  scaled_sobel = np.uint8(255 * abs_sobel / np.max(abs_sobel))\n",
    "  binary_output = np.zeros_like(scaled_sobel)\n",
    "  binary_output[(scaled_sobel >= threshold[0]) & (scaled_sobel <= threshold[1])] = 1\n",
    "  return binary_output\n",
    "\n",
    "\n",
    "def magnitude_sobel_threshold(image, sobel_kernel=3, threshold=(0, 255)):\n",
    "  gray = cv2.cvtColor(image, cv2.COLOR_RGB2GRAY)\n",
    "  sobel_x = cv2.Sobel(gray, cv2.CV_64F, 1, 0, ksize=sobel_kernel)\n",
    "  sobel_y = cv2.Sobel(gray, cv2.CV_64F, 0, 1, ksize=sobel_kernel)\n",
    "  mag = np.sqrt(np.power(sobel_x, 2) + np.power(sobel_y, 2))\n",
    "  scaled_mag = np.uint8(255 * mag / np.max(mag))\n",
    "  binary_output = np.zeros_like(scaled_mag)\n",
    "  binary_output[(scaled_mag >= threshold[0]) & (scaled_mag <= threshold[1])] = 1\n",
    "  return binary_output\n",
    "\n",
    "\n",
    "def direction_sobel_threshold(image, sobel_kernel=3, threshold=(0, np.pi / 2)):\n",
    "  gray = cv2.cvtColor(image, cv2.COLOR_RGB2GRAY)\n",
    "  sobel_x = cv2.Sobel(gray, cv2.CV_64F, 1, 0, ksize=sobel_kernel)\n",
    "  sobel_y = cv2.Sobel(gray, cv2.CV_64F, 0, 1, ksize=sobel_kernel)\n",
    "  abs_sobel_x = np.absolute(sobel_x)\n",
    "  abs_sobel_y = np.absolute(sobel_y)\n",
    "  direction = np.arctan2(abs_sobel_y, abs_sobel_x)\n",
    "  binary_output = np.zeros_like(direction)\n",
    "  binary_output[(direction >= threshold[0]) & (direction <= threshold[1])] = 1\n",
    "  return binary_output\n",
    "\n",
    "def saturation_threshold(image, threshold=(0, 255)):\n",
    "  img_hls = cv2.cvtColor(image, cv2.COLOR_RGB2HLS)\n",
    "  S = img_hls[:, :, 2]\n",
    "  binary_output = np.zeros_like(S)\n",
    "  binary_output[(S > threshold[0]) & (S <= threshold[1])] = 1\n",
    "  return binary_output\n",
    "\n",
    "def white_and_yellow(image):\n",
    "  hsv = cv2.cvtColor(image, cv2.COLOR_RGB2HSV)\n",
    "\n",
    "  white_image = np.ones((image.shape[0], image.shape[1], 1), np.uint8)\n",
    "  yellow_mask = cv2.inRange(hsv, np.array([20,90,90]), np.array([30,255,255]))\n",
    "  white_mask = cv2.inRange(hsv, np.array([0,0,200]), np.array([255,30,255]))\n",
    "\n",
    "  w_image = cv2.bitwise_and(white_image, white_image, mask=white_mask)\n",
    "  y_image = cv2.bitwise_and(white_image, white_image, mask=yellow_mask)\n",
    "\n",
    "  result = cv2.bitwise_or(y_image, w_image)\n",
    "  return result\n",
    "\n",
    "\n",
    "def birds_eye_matrix_road(shape, inverse):\n",
    "  width = shape[1]\n",
    "  height = shape[0]\n",
    "\n",
    "  sll = [width * 0.42, height * 0.65]\n",
    "  slr = [width * 0.58, height * 0.65]\n",
    "  sul = [width * 0.15, height * 0.98]\n",
    "  sur = [width * 0.85, height * 0.98]\n",
    "\n",
    "  dll = [width * 0.15, 0]\n",
    "  dlr = [width * 0.85, 0]\n",
    "  dul = [width * 0.15, height]\n",
    "  dur = [width * 0.85, height]\n",
    "\n",
    "  src = np.float32([sll, slr, sur, sul])\n",
    "  dst = np.float32([dll, dlr, dur, dul])\n",
    "\n",
    "  if inverse == True:\n",
    "    M = cv2.getPerspectiveTransform(dst, src)\n",
    "  else:\n",
    "    M = cv2.getPerspectiveTransform(src, dst)\n",
    "  return M\n",
    "\n",
    "\n",
    "def adaptive_histogram(image):\n",
    "  img_hsv = cv2.cvtColor(image, cv2.COLOR_RGB2HSV)\n",
    "  img_v = img_hsv[...,2]\n",
    "  value_equalized = cv2.equalizeHist(img_v)\n",
    "  img_hsv[...,2] = value_equalized\n",
    "  result = cv2.cvtColor(img_hsv, cv2.COLOR_HSV2RGB)\n",
    "  return result\n",
    "\n",
    "\n",
    "def region_of_interest(img):\n",
    "  \"\"\"\n",
    "  Applies an image mask.\n",
    "\n",
    "  Only keeps the region of the image defined by the polygon\n",
    "  formed from `vertices`. The rest of the image is set to black.\n",
    "  \"\"\"\n",
    "  ysize = img.shape[0]\n",
    "  xsize = img.shape[1]\n",
    "  vertices = np.array([[(50, ysize),\n",
    "                        (xsize - 50, ysize),\n",
    "                        (xsize / 2 + 50, round(0.6 * ysize)),\n",
    "                        (xsize / 2 - 50, round(0.6 * ysize)),\n",
    "                        (50, ysize)]], dtype=np.int32)\n",
    "\n",
    "  # defining a blank mask to start with\n",
    "  mask = np.zeros_like(img)\n",
    "\n",
    "  # defining a 3 channel or 1 channel color to fill the mask with depending on the input image\n",
    "  if len(img.shape) > 2:\n",
    "    channel_count = img.shape[2]  # i.e. 3 or 4 depending on your image\n",
    "    ignore_mask_color = (255,) * channel_count\n",
    "  else:\n",
    "    ignore_mask_color = 255\n",
    "\n",
    "  # filling pixels inside the polygon defined by \"vertices\" with the fill color\n",
    "  cv2.fillPoly(mask, vertices, ignore_mask_color)\n",
    "\n",
    "  # returning the image only where mask pixels are nonzero\n",
    "  masked_image = cv2.bitwise_and(img, mask)\n",
    "  return masked_image"
   ]
  },
  {
   "cell_type": "code",
   "execution_count": 38,
   "metadata": {
    "collapsed": false
   },
   "outputs": [
    {
     "data": {
      "image/png": "[encoded data removed]",
      "text/plain": [
       "<matplotlib.figure.Figure at 0x7f14147a0cf8>"
      ]
     },
     "metadata": {},
     "output_type": "display_data"
    },
    {
     "data": {
      "image/png": "[encoded data removed]",
      "text/plain": [
       "<matplotlib.figure.Figure at 0x7f141450c5c0>"
      ]
     },
     "metadata": {},
     "output_type": "display_data"
    },
    {
     "data": {
      "image/png": "[encoded data removed]",
      "text/plain": [
       "<matplotlib.figure.Figure at 0x7f1414587978>"
      ]
     },
     "metadata": {},
     "output_type": "display_data"
    }
   ],
   "source": [
    "%matplotlib inline\n",
    "from IPython.html.widgets import interact\n",
    "from IPython.display import display\n",
    "file = \"./log/undistortedf0c0.png\"\n",
    "image = cv2.imread(file)\n",
    "image = cv2.cvtColor(image, cv2.COLOR_BGR2RGB)\n",
    "roi = region_of_interest(image_rgb)\n",
    "\n",
    "def update(ksize, min_gradx, max_gradx, min_grady, max_grady, min_mag, max_mag, min_dir, max_dir, min_sat, max_sat):\n",
    "    white_yellow_image = region_of_interest(white_and_yellow(image))\n",
    "    sobel_x = region_of_interest(absolute_sobel_threshold(image, 'x', ksize, (min_gradx, max_gradx)))\n",
    "    sobel_y = region_of_interest(absolute_sobel_threshold(image, 'y', ksize, (min_grady, max_grady)))\n",
    "    sobel_magnitude = region_of_interest(magnitude_sobel_threshold(image, ksize, (min_mag, max_mag)))\n",
    "    sobel_direction = region_of_interest(direction_sobel_threshold(image, ksize, (min_dir, max_dir)))\n",
    "    saturation = region_of_interest(saturation_threshold(image, (min_sat, max_sat)))\n",
    "\n",
    "    combined1 = np.zeros_like(sobel_magnitude)\n",
    "    combined1[(white_yellow_image == 1) & ( (saturation==1) | (sobel_x==1) | (sobel_magnitude==1))] = 1\n",
    "    combined2 = np.zeros_like(sobel_magnitude)\n",
    "    combined3 = np.zeros_like(sobel_magnitude)\n",
    "\n",
    "    plt.imshow(white_yellow_image, cmap='gray')\n",
    "    plt.show()\n",
    "    plt.imshow(sobel_x, cmap='gray')\n",
    "    plt.show()\n",
    "    plt.imshow(combined1, cmap='gray')\n",
    "\n",
    "interact(update, ksize=(1,31,2), min_gradx=(0,255), max_gradx=(0,255), min_grady=(0,255), max_grady=(0,255), \n",
    "         min_mag=(0,255), max_mag=(0,255), min_dir=(0,np.pi/2), max_dir=(0,np.pi/2), \n",
    "         min_sat=(0,255), max_sat=(0,255));"
   ]
  },
  {
   "cell_type": "code",
   "execution_count": null,
   "metadata": {
    "collapsed": true
   },
   "outputs": [],
   "source": [
    ""
   ]
  }
 ],
 "metadata": {
  "kernelspec": {
   "display_name": "Python 3",
   "language": "python",
   "name": "python3"
  },
  "language_info": {
   "codemirror_mode": {
    "name": "ipython",
    "version": 3.0
   },
   "file_extension": ".py",
   "mimetype": "text/x-python",
   "name": "python",
   "nbconvert_exporter": "python",
   "pygments_lexer": "ipython3",
   "version": "3.5.2"
  }
 },
 "nbformat": 4,
 "nbformat_minor": 0
}